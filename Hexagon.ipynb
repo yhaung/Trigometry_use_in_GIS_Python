{
 "cells": [
  {
   "cell_type": "code",
   "execution_count": 46,
   "metadata": {},
   "outputs": [],
   "source": [
    "import math\n",
    "import pandas as pd"
   ]
  },
  {
   "cell_type": "code",
   "execution_count": 47,
   "metadata": {},
   "outputs": [],
   "source": [
    "def hexagon(dist,x,y):\n",
    "    rad30 = math.radians(30)\n",
    "    \n",
    "    dy =math.sin(rad30)*dist\n",
    "    dx =math.cos(rad30)*dist\n",
    "    \n",
    "    \n",
    "    Lon1 =x+dx\n",
    "    Lat1 =y-dy\n",
    "    \n",
    "    Lon2=x-dx\n",
    "    Lat2=y-dy\n",
    "    \n",
    "    Lon3=x\n",
    "    Lat3=y+dist\n",
    "    \n",
    "    Lon4 =x-dx\n",
    "    Lat4 =y+dy\n",
    "    \n",
    "    Lon5 =x+dx\n",
    "    Lat5=y+dy\n",
    "    \n",
    "    Lon6=x\n",
    "    Lat6=y-dist\n",
    "    \n",
    "    return([Lon1,Lat1],[Lon2,Lat2],[Lon3,Lat3],[Lon4,Lat4],[Lon5,Lat5],[Lon6,Lat6])"
   ]
  },
  {
   "cell_type": "code",
   "execution_count": 48,
   "metadata": {},
   "outputs": [
    {
     "data": {
      "text/plain": [
       "pandas.core.frame.DataFrame"
      ]
     },
     "execution_count": 48,
     "metadata": {},
     "output_type": "execute_result"
    }
   ],
   "source": [
    "df = pd.read_csv(\"demofile2.csv\")\n",
    "\n",
    "type(df)"
   ]
  },
  {
   "cell_type": "code",
   "execution_count": 49,
   "metadata": {},
   "outputs": [],
   "source": [
    "with open(\"hexagon.csv\",\"w\") as f:\n",
    "    f.write(\"Lon,Lat\\n\")    \n",
    "    \n",
    "\n",
    "    for i in range(len(df)):\n",
    "        x = df.iloc[i][0]\n",
    "        y = df.iloc[i][1]\n",
    "        points =hexagon(5,x,y)\n",
    "\n",
    "        for pt in points:\n",
    "            x,y =pt\n",
    "            txt =str(x)+\",\"+str(y)+\"\\n\"\n",
    "\n",
    "            f.write(str(txt))"
   ]
  },
  {
   "cell_type": "code",
   "execution_count": null,
   "metadata": {},
   "outputs": [],
   "source": []
  },
  {
   "cell_type": "code",
   "execution_count": null,
   "metadata": {},
   "outputs": [],
   "source": []
  }
 ],
 "metadata": {
  "kernelspec": {
   "display_name": "Python 3",
   "language": "python",
   "name": "python3"
  },
  "language_info": {
   "codemirror_mode": {
    "name": "ipython",
    "version": 3
   },
   "file_extension": ".py",
   "mimetype": "text/x-python",
   "name": "python",
   "nbconvert_exporter": "python",
   "pygments_lexer": "ipython3",
   "version": "3.6.6"
  }
 },
 "nbformat": 4,
 "nbformat_minor": 2
}
