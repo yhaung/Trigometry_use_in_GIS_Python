{
 "cells": [
  {
   "cell_type": "code",
   "execution_count": 7,
   "metadata": {},
   "outputs": [],
   "source": [
    "import math"
   ]
  },
  {
   "cell_type": "code",
   "execution_count": 8,
   "metadata": {},
   "outputs": [],
   "source": [
    "t = math.radians(30)\n"
   ]
  },
  {
   "cell_type": "code",
   "execution_count": 9,
   "metadata": {},
   "outputs": [],
   "source": [
    "s =math.sin(t)"
   ]
  },
  {
   "cell_type": "code",
   "execution_count": 10,
   "metadata": {},
   "outputs": [
    {
     "name": "stdout",
     "output_type": "stream",
     "text": [
      "0.49999999999999994\n"
     ]
    }
   ],
   "source": [
    "print(s)"
   ]
  },
  {
   "cell_type": "code",
   "execution_count": 11,
   "metadata": {},
   "outputs": [
    {
     "data": {
      "text/plain": [
       "3.141592653589793"
      ]
     },
     "execution_count": 11,
     "metadata": {},
     "output_type": "execute_result"
    }
   ],
   "source": [
    "math.pi"
   ]
  },
  {
   "cell_type": "code",
   "execution_count": 139,
   "metadata": {},
   "outputs": [],
   "source": [
    "def pentagon(dist,x,y):\n",
    "    rad_18 =math.radians(18)\n",
    "    rad_54 =math.radians(54)\n",
    "    dx1=math.cos(rad_18)*dist\n",
    "    dy1=math.sin(rad_18)*dist\n",
    "    dx2=math.cos(rad_54)*dist\n",
    "    dy2=math.sin(rad_54)*dist\n",
    "    \n",
    "    Lon1=x+dx1\n",
    "    Lat1=y+dy1\n",
    "    \n",
    "    Lon2=x+dx2\n",
    "    Lat2=y-dy2\n",
    "    \n",
    "    Lon3=x-dx2\n",
    "    Lat3=y-dy2\n",
    "    \n",
    "    Lon4=x-dx1\n",
    "    Lat4=y+dy1\n",
    "    \n",
    "    Lon5=x\n",
    "    Lat5=y+dist\n",
    "    \n",
    "    \n",
    "    return([Lon1,Lat1],[Lon2,Lat2],[Lon3,Lat3],[Lon4,Lat4],[Lon5,Lat5])\n"
   ]
  },
  {
   "cell_type": "code",
   "execution_count": 140,
   "metadata": {},
   "outputs": [],
   "source": [
    "with open(\"demofile2.csv\", \"w\") as f:\n",
    "\n",
    "    points =pentagon(20,2799337.3,2799694)\n",
    "    \n",
    "    f.write(\"Lon,Lat\\n\")\n",
    "    i = 0\n",
    "    for pt in points:\n",
    "        x,y =pt\n",
    "        i += 1\n",
    "        if i < len(points):\n",
    "            txt =str(x)+\",\"+str(y)+\"\\n\"\n",
    "        else:\n",
    "            txt =str(x)+\",\"+str(y)\n",
    "        \n",
    "        f.write(str(txt))\n",
    "        \n"
   ]
  },
  {
   "cell_type": "code",
   "execution_count": 141,
   "metadata": {},
   "outputs": [
    {
     "data": {
      "text/plain": [
       "5"
      ]
     },
     "execution_count": 141,
     "metadata": {},
     "output_type": "execute_result"
    }
   ],
   "source": [
    "len(points)"
   ]
  },
  {
   "cell_type": "code",
   "execution_count": 119,
   "metadata": {},
   "outputs": [
    {
     "name": "stdout",
     "output_type": "stream",
     "text": [
      "Lon,Lat\n",
      "2799356.3211303256,2799700.1803398873\n",
      "2799349.055705046,2799677.8196601127\n",
      "2799325.544294954,2799677.8196601127\n",
      "2799318.278869674,2799700.1803398873\n",
      "2799337.3,2799714\n",
      "Lon,Lat\n",
      "2799356.3211303256,2799700.1803398873\n",
      "2799349.055705046,2799677.8196601127\n",
      "2799325.544294954,2799677.8196601127\n",
      "2799318.278869674,2799700.1803398873\n",
      "2799337.3,2799714\n"
     ]
    }
   ],
   "source": [
    "# read point file\n",
    "with open(\"demofile2.csv\", \"r\") as f:\n",
    "   b = f.read()\n",
    "# print(b)"
   ]
  },
  {
   "cell_type": "code",
   "execution_count": 111,
   "metadata": {},
   "outputs": [],
   "source": [
    "b=b.split(\"\\n\")"
   ]
  },
  {
   "cell_type": "code",
   "execution_count": 112,
   "metadata": {},
   "outputs": [],
   "source": [
    "t=b[0].split(\",\")\n",
    "b=b[1:]\n",
    "#b=b[:-1]"
   ]
  },
  {
   "cell_type": "code",
   "execution_count": null,
   "metadata": {},
   "outputs": [],
   "source": [
    "'''\n",
    "for i in b:\n",
    "    xy = i.split(\",\")\n",
    "    x = float(xy[0])\n",
    "    y = float(xy[1])\n",
    "    print(x)\n",
    "'''"
   ]
  },
  {
   "cell_type": "code",
   "execution_count": 115,
   "metadata": {},
   "outputs": [],
   "source": [
    "# generate pantgon points for each point in ref file and output as new csv file\n",
    "with open(\"ye.csv\",\"w\") as f:\n",
    "    f.write(\"Lon,Lat\\n\")\n",
    "\n",
    "    for i in b:\n",
    "        xy =i.split(\",\")\n",
    "        x =float(xy[0])\n",
    "        y =float(xy[1])\n",
    "\n",
    "        points =pentagon(5,x,y)\n",
    " \n",
    "        for pt in points:\n",
    "            x,y =pt\n",
    "            txt =str(x)+\",\"+str(y)+\"\\n\"\n",
    "\n",
    "            f.write(str(txt))\n",
    "\n",
    "       \n"
   ]
  },
  {
   "cell_type": "code",
   "execution_count": 122,
   "metadata": {},
   "outputs": [],
   "source": [
    "import pandas as pd\n",
    "\n",
    "df = pd.read_csv(\"ye.csv\")\n"
   ]
  },
  {
   "cell_type": "code",
   "execution_count": 138,
   "metadata": {},
   "outputs": [],
   "source": [
    "with open(\"yeye.csv\",\"w\") as f:\n",
    "    f.write(\"Lon,Lat\\n\")    \n",
    "    \n",
    "\n",
    "    for i in range(len(df)):\n",
    "        x = df.iloc[i][0]\n",
    "        y = df.iloc[i][1]\n",
    "        points =pentagon(2,x,y)\n",
    "\n",
    "        for pt in points:\n",
    "            x,y =pt\n",
    "            txt =str(x)+\",\"+str(y)+\"\\n\"\n",
    "\n",
    "            f.write(str(txt))"
   ]
  },
  {
   "cell_type": "code",
   "execution_count": 132,
   "metadata": {},
   "outputs": [],
   "source": [
    "#df.to_csv(\"yyee.csv\", index = False)"
   ]
  },
  {
   "cell_type": "code",
   "execution_count": null,
   "metadata": {},
   "outputs": [],
   "source": []
  }
 ],
 "metadata": {
  "kernelspec": {
   "display_name": "Python 3",
   "language": "python",
   "name": "python3"
  },
  "language_info": {
   "codemirror_mode": {
    "name": "ipython",
    "version": 3
   },
   "file_extension": ".py",
   "mimetype": "text/x-python",
   "name": "python",
   "nbconvert_exporter": "python",
   "pygments_lexer": "ipython3",
   "version": "3.6.6"
  }
 },
 "nbformat": 4,
 "nbformat_minor": 2
}
